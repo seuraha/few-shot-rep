{
 "cells": [
  {
   "cell_type": "code",
   "execution_count": 1,
   "metadata": {},
   "outputs": [],
   "source": [
    "import PARAMS\n",
    "import numpy as np\n",
    "import torch\n",
    "import experiment"
   ]
  },
  {
   "cell_type": "code",
   "execution_count": 2,
   "metadata": {},
   "outputs": [],
   "source": [
    "exp = experiment.Experiment(PARAMS.d, PARAMS.k, PARAMS.nT, PARAMS.n1, PARAMS.n2)\n",
    "exp.instantiate()"
   ]
  },
  {
   "cell_type": "code",
   "execution_count": 5,
   "metadata": {},
   "outputs": [],
   "source": [
    "class TaskPredict(torch.nn.Module):\n",
    "    def __init__(self):\n",
    "        super(TaskPredict, self).__init__()\n",
    "        self.w = torch.nn.Parameter(torch.randn(PARAMS.k))\n",
    "\n",
    "    def forward(self, x):\n",
    "        return x @ self.w"
   ]
  },
  {
   "cell_type": "code",
   "execution_count": 6,
   "metadata": {},
   "outputs": [],
   "source": [
    "class MTLDLR(torch.nn.Module):\n",
    "    def __init__(self, tasks):\n",
    "        super(MTLDLR, self).__init__()\n",
    "        self.B = torch.nn.Parameter(torch.randn(PARAMS.d, PARAMS.k))\n",
    "        self.W = torch.nn.ModuleDict({\n",
    "            task_id: TaskPredict() for task_id in tasks\n",
    "        })\n",
    "\n",
    "    def forward(self, x: dict):\n",
    "        return {\n",
    "            task_id: self.W[task_id](x[task_id] @ self.B) for task_id in self.W\n",
    "            }"
   ]
  },
  {
   "cell_type": "code",
   "execution_count": 48,
   "metadata": {},
   "outputs": [],
   "source": [
    "model = MTLDLR([t.task_id for t in exp.source_tasks])\n",
    "optimizer = torch.optim.Adam(model.parameters(), lr=0.01)"
   ]
  },
  {
   "cell_type": "code",
   "execution_count": 11,
   "metadata": {},
   "outputs": [],
   "source": [
    "source_X = {t.task_id: t.X for t in exp.source_tasks}\n",
    "source_y = {t.task_id: t.y for t in exp.source_tasks}"
   ]
  },
  {
   "cell_type": "code",
   "execution_count": 49,
   "metadata": {},
   "outputs": [],
   "source": [
    "prediction = model(source_X)\n",
    "def Loss(prediction, true_y):\n",
    "    l = torch.cat(tuple(prediction.values())) - torch.cat(tuple(true_y.values()))\n",
    "    return torch.mean(l**2) / 2"
   ]
  },
  {
   "cell_type": "code",
   "execution_count": 50,
   "metadata": {},
   "outputs": [
    {
     "name": "stdout",
     "output_type": "stream",
     "text": [
      "tensor(985.7751, grad_fn=<DivBackward0>)\n",
      "tensor(61.1624, grad_fn=<DivBackward0>)\n",
      "tensor(10.7805, grad_fn=<DivBackward0>)\n",
      "tensor(4.7310, grad_fn=<DivBackward0>)\n",
      "tensor(3.7720, grad_fn=<DivBackward0>)\n",
      "tensor(3.5168, grad_fn=<DivBackward0>)\n",
      "tensor(3.3433, grad_fn=<DivBackward0>)\n",
      "tensor(3.1682, grad_fn=<DivBackward0>)\n",
      "tensor(3.0068, grad_fn=<DivBackward0>)\n",
      "tensor(2.8641, grad_fn=<DivBackward0>)\n"
     ]
    }
   ],
   "source": [
    "for epoch in range(1000):\n",
    "    model.zero_grad()\n",
    "    prediction = model(source_X)\n",
    "    loss = Loss(prediction, source_y)\n",
    "    loss.backward()\n",
    "    optimizer.step()\n",
    "    if (epoch == 0) or (epoch % 100 == 0):\n",
    "        print(loss)"
   ]
  },
  {
   "cell_type": "code",
   "execution_count": null,
   "metadata": {},
   "outputs": [],
   "source": []
  }
 ],
 "metadata": {
  "kernelspec": {
   "display_name": "Python 3",
   "language": "python",
   "name": "python3"
  },
  "language_info": {
   "codemirror_mode": {
    "name": "ipython",
    "version": 3
   },
   "file_extension": ".py",
   "mimetype": "text/x-python",
   "name": "python",
   "nbconvert_exporter": "python",
   "pygments_lexer": "ipython3",
   "version": "3.11.5"
  }
 },
 "nbformat": 4,
 "nbformat_minor": 2
}
