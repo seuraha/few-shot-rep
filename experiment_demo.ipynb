{
 "cells": [
  {
   "cell_type": "code",
   "execution_count": 2,
   "metadata": {},
   "outputs": [],
   "source": [
    "import PARAMS as P\n",
    "import numpy as np\n",
    "import torch\n",
    "from torch.utils.data import TensorDataset, DataLoader\n",
    "import experiment\n",
    "from model import *"
   ]
  },
  {
   "cell_type": "code",
   "execution_count": 3,
   "metadata": {},
   "outputs": [
    {
     "name": "stdout",
     "output_type": "stream",
     "text": [
      "2k < min {d, T}:  True\n",
      "n1 >> rho^4 (d + log(T/delta))\n",
      " <=> 50000 >  47090: True\n",
      "n2 >> rho^4 (k + log(1/delta))\n",
      " <=> 5000 >  9605: False\n",
      "True\n"
     ]
    }
   ],
   "source": [
    "rho = 1.0\n",
    "sigma = 0.1\n",
    "delta = 0.01\n",
    "c = 1.0\n",
    "C = 1000\n",
    "print(\"2k < min {d, T}: \", 2*P.k < min(P.d, P.nT))\n",
    "n1_bound = C * rho**4 * (P.d + np.log(P.nT / delta))\n",
    "print(f\"n1 >> rho^4 (d + log(T/delta))\\n <=> {P.n1} > {n1_bound: .0f}:\", P.n1 > n1_bound)\n",
    "n2_bound = C * rho**4 * (P.k + np.log(1 / delta))\n",
    "print(f\"n2 >> rho^4 (k + log(1/delta))\\n <=> {P.n2} > {n2_bound: .0f}:\", P.n2 > n2_bound)\n",
    "print(c * P.n1 > P.n2)"
   ]
  },
  {
   "cell_type": "code",
   "execution_count": 207,
   "metadata": {},
   "outputs": [],
   "source": [
    "configs = {\n",
    "    \"d\": 40,\n",
    "    \"k\": 5,\n",
    "    \"n1\": 50000,\n",
    "    \"n2\": 5000,\n",
    "    \"nT\": 12,\n",
    "    \"rho\": 1.0,\n",
    "    \"sigma\": 0.1,\n",
    "    \"delta\": 0.01,\n",
    "    \"c\": 1.0,\n",
    "    \"A1\": True,\n",
    "    \"A2\": True,\n",
    "    \"A3\": True,\n",
    "    \"A4\": True,\n",
    "}"
   ]
  },
  {
   "cell_type": "code",
   "execution_count": 210,
   "metadata": {},
   "outputs": [
    {
     "ename": "NameError",
     "evalue": "name 'assumptions_check' is not defined",
     "output_type": "error",
     "traceback": [
      "\u001b[0;31m---------------------------------------------------------------------------\u001b[0m",
      "\u001b[0;31mNameError\u001b[0m                                 Traceback (most recent call last)",
      "Cell \u001b[0;32mIn[210], line 1\u001b[0m\n\u001b[0;32m----> 1\u001b[0m \u001b[43massumptions_check\u001b[49m(configs)\n",
      "\u001b[0;31mNameError\u001b[0m: name 'assumptions_check' is not defined"
     ]
    }
   ],
   "source": [
    "assumptions_check(configs)"
   ]
  },
  {
   "cell_type": "code",
   "execution_count": 3,
   "metadata": {},
   "outputs": [],
   "source": [
    "assumptions_check(configs)\n",
    "exp = experiment.Experiment(configs)\n",
    "exp.instantiate()"
   ]
  },
  {
   "cell_type": "code",
   "execution_count": 6,
   "metadata": {},
   "outputs": [],
   "source": [
    "model = MTLDLR(configs)\n",
    "source_optim = torch.optim.Adam(model.parameters(), lr=0.01)\n",
    "source_criterion = torch.nn.MSELoss()\n",
    "source_X = [t.X for t in exp.source_tasks]\n",
    "source_y = torch.cat([t.y for t in exp.source_tasks])"
   ]
  },
  {
   "cell_type": "code",
   "execution_count": 7,
   "metadata": {},
   "outputs": [
    {
     "name": "stdout",
     "output_type": "stream",
     "text": [
      "tensor(7.6619, grad_fn=<MseLossBackward0>)\n",
      "tensor(2.1393, grad_fn=<MseLossBackward0>)\n",
      "tensor(0.4396, grad_fn=<MseLossBackward0>)\n",
      "tensor(0.2355, grad_fn=<MseLossBackward0>)\n",
      "tensor(0.1577, grad_fn=<MseLossBackward0>)\n",
      "tensor(0.1132, grad_fn=<MseLossBackward0>)\n",
      "tensor(0.0876, grad_fn=<MseLossBackward0>)\n",
      "tensor(0.0705, grad_fn=<MseLossBackward0>)\n",
      "tensor(0.0565, grad_fn=<MseLossBackward0>)\n",
      "tensor(0.0440, grad_fn=<MseLossBackward0>)\n"
     ]
    }
   ],
   "source": [
    "for epoch in range(500):\n",
    "    source_optim.zero_grad()\n",
    "    prediction = torch.cat(model(source_X))\n",
    "    loss = source_criterion(prediction, source_y)\n",
    "    loss.backward()\n",
    "    source_optim.step()\n",
    "    if (epoch == 0) or (epoch % 50 == 0):\n",
    "        print(loss)"
   ]
  },
  {
   "cell_type": "code",
   "execution_count": 8,
   "metadata": {},
   "outputs": [],
   "source": [
    "optimal_B = model.B.detach()\n",
    "loss_list = []\n",
    "for _ in range(1000):\n",
    "    task = exp.generate_task(is_source=False)\n",
    "    target_model = TaskPredict()\n",
    "    target_optim = torch.optim.Adam(target_model.parameters(), lr=0.001)\n",
    "    target_criterion = torch.nn.MSELoss()\n",
    "    target_X = task.X\n",
    "    target_y = task.y\n",
    "\n",
    "    for epoch in range(200):\n",
    "        target_optim.zero_grad()\n",
    "        representation = target_X @ optimal_B\n",
    "        prediction = target_model(representation)\n",
    "        loss = target_criterion(prediction, target_y)\n",
    "        loss.backward()\n",
    "        target_optim.step()\n",
    "    optimal_prediction = target_X @ exp.B @ exp.target_task.w\n",
    "    trained_prediction = target_X @ optimal_B @ target_model.w.weight.detach().squeeze()\n",
    "    loss_list.append(((optimal_prediction - trained_prediction)**2).mean())"
   ]
  },
  {
   "cell_type": "code",
   "execution_count": 20,
   "metadata": {},
   "outputs": [],
   "source": [
    "target_model = TaskPredict()\n",
    "target_optim = torch.optim.Adam(target_model.parameters(), lr=0.001)\n",
    "target_criterion = torch.nn.MSELoss()\n",
    "optimal_B = model.B.detach()\n",
    "target_X = exp.target_task.X\n",
    "target_y = exp.target_task.y"
   ]
  },
  {
   "cell_type": "code",
   "execution_count": 21,
   "metadata": {},
   "outputs": [
    {
     "name": "stdout",
     "output_type": "stream",
     "text": [
      "tensor(3.0728, grad_fn=<MseLossBackward0>)\n",
      "tensor(2.8411, grad_fn=<MseLossBackward0>)\n",
      "tensor(2.6227, grad_fn=<MseLossBackward0>)\n",
      "tensor(2.4183, grad_fn=<MseLossBackward0>)\n",
      "tensor(2.2277, grad_fn=<MseLossBackward0>)\n",
      "tensor(2.0509, grad_fn=<MseLossBackward0>)\n",
      "tensor(1.8875, grad_fn=<MseLossBackward0>)\n",
      "tensor(1.7366, grad_fn=<MseLossBackward0>)\n",
      "tensor(1.5975, grad_fn=<MseLossBackward0>)\n",
      "tensor(1.4696, grad_fn=<MseLossBackward0>)\n",
      "tensor(1.3520, grad_fn=<MseLossBackward0>)\n",
      "tensor(1.2440, grad_fn=<MseLossBackward0>)\n",
      "tensor(1.1449, grad_fn=<MseLossBackward0>)\n",
      "tensor(1.0541, grad_fn=<MseLossBackward0>)\n",
      "tensor(0.9709, grad_fn=<MseLossBackward0>)\n",
      "tensor(0.8947, grad_fn=<MseLossBackward0>)\n",
      "tensor(0.8251, grad_fn=<MseLossBackward0>)\n",
      "tensor(0.7616, grad_fn=<MseLossBackward0>)\n",
      "tensor(0.7036, grad_fn=<MseLossBackward0>)\n",
      "tensor(0.6509, grad_fn=<MseLossBackward0>)\n"
     ]
    }
   ],
   "source": [
    "for epoch in range(200):\n",
    "    target_optim.zero_grad()\n",
    "    representation = target_X @ optimal_B\n",
    "    prediction = target_model(representation)\n",
    "    loss = target_criterion(prediction, target_y)\n",
    "    loss.backward()\n",
    "    target_optim.step()\n",
    "    if (epoch == 0) or (epoch % 10 == 0):\n",
    "        print(loss)"
   ]
  },
  {
   "cell_type": "code",
   "execution_count": 58,
   "metadata": {},
   "outputs": [
    {
     "data": {
      "text/plain": [
       "tensor(1.4703)"
      ]
     },
     "execution_count": 58,
     "metadata": {},
     "output_type": "execute_result"
    }
   ],
   "source": [
    "optimal_B = model.B.detach()\n",
    "loss_list = []\n",
    "for _ in range(1000):\n",
    "    task = exp.generate_task(is_source=False)\n",
    "    target_model = TaskPredict()\n",
    "    target_optim = torch.optim.Adam(target_model.parameters(), lr=0.001)\n",
    "    target_criterion = torch.nn.MSELoss()\n",
    "    target_X = task.X\n",
    "    target_y = task.y\n",
    "\n",
    "    for epoch in range(200):\n",
    "        target_optim.zero_grad()\n",
    "        representation = target_X @ optimal_B\n",
    "        prediction = target_model(representation)\n",
    "        loss = target_criterion(prediction, target_y)\n",
    "        loss.backward()\n",
    "        target_optim.step()\n",
    "    optimal_prediction = target_X @ exp.B @ exp.target_task.w\n",
    "    trained_prediction = target_X @ optimal_B @ target_model.w.weight.detach().squeeze()\n",
    "    loss_list.append(((optimal_prediction - trained_prediction)**2).mean())"
   ]
  },
  {
   "cell_type": "code",
   "execution_count": 25,
   "metadata": {},
   "outputs": [
    {
     "data": {
      "text/plain": [
       "6.689552"
      ]
     },
     "execution_count": 25,
     "metadata": {},
     "output_type": "execute_result"
    }
   ],
   "source": []
  },
  {
   "cell_type": "code",
   "execution_count": 32,
   "metadata": {},
   "outputs": [
    {
     "data": {
      "text/plain": [
       "8.211762947458189e-05"
      ]
     },
     "execution_count": 32,
     "metadata": {},
     "output_type": "execute_result"
    }
   ],
   "source": [
    "loss_list = np.array(loss_list)\n",
    "print(loss_list.mean())\n",
    "print(get_bound(P, sigma, delta))"
   ]
  },
  {
   "cell_type": "code",
   "execution_count": 11,
   "metadata": {},
   "outputs": [
    {
     "name": "stdout",
     "output_type": "stream",
     "text": [
      "7.302778\n",
      "8.211762947458189e-05\n"
     ]
    }
   ],
   "source": [
    "loss_list = np.array(loss_list)\n",
    "print(loss_list.mean())\n",
    "print(get_bound(P, sigma, delta))"
   ]
  },
  {
   "cell_type": "code",
   "execution_count": 4,
   "metadata": {},
   "outputs": [],
   "source": [
    "exp = experiment.Experiment(\n",
    "    P.d, \n",
    "    P.k, \n",
    "    P.nT, \n",
    "    P.n1, \n",
    "    P.n2,\n",
    "    epsilon=0.001,\n",
    "    rho=rho,\n",
    "    sigma=sigma,\n",
    "    assumptions=[True, False, True, True])\n",
    "exp.instantiate()"
   ]
  },
  {
   "cell_type": "code",
   "execution_count": 13,
   "metadata": {},
   "outputs": [
    {
     "data": {
      "text/plain": [
       "tensor(0.2500)"
      ]
     },
     "execution_count": 13,
     "metadata": {},
     "output_type": "execute_result"
    }
   ],
   "source": [
    "torch.diag(torch.ones(10) * rho**2)[-1][-1]"
   ]
  },
  {
   "cell_type": "code",
   "execution_count": 16,
   "metadata": {},
   "outputs": [
    {
     "data": {
      "text/plain": [
       "array([1., 1., 1.])"
      ]
     },
     "execution_count": 16,
     "metadata": {},
     "output_type": "execute_result"
    }
   ],
   "source": [
    "ev = np.linspace(1.0, 1.0, 5)\n",
    "ev[:3]"
   ]
  },
  {
   "cell_type": "code",
   "execution_count": 51,
   "metadata": {},
   "outputs": [
    {
     "name": "stderr",
     "output_type": "stream",
     "text": [
      "/var/folders/b3/3q8nyx654bg0fc3ndwllyct00000gr/T/ipykernel_15391/1947027822.py:11: UserWarning: To copy construct from a tensor, it is recommended to use sourceTensor.clone().detach() or sourceTensor.clone().detach().requires_grad_(True), rather than torch.tensor(sourceTensor).\n",
      "  cov = torch.diag(torch.tensor(ev))\n"
     ]
    },
    {
     "name": "stdout",
     "output_type": "stream",
     "text": [
      "k=2, T=1000 tensor(1.0087)\n",
      "tensor(22.2634)\n",
      "k=2, T=2000 tensor(1.0173)\n",
      "tensor(31.3512)\n",
      "k=2, T=3000 tensor(1.0124)\n",
      "tensor(38.4902)\n",
      "k=2, T=4000 tensor(1.0149)\n",
      "tensor(44.3886)\n",
      "k=2, T=5000 tensor(1.0128)\n",
      "tensor(49.6802)\n",
      "k=2, T=6000 tensor(1.0131)\n",
      "tensor(54.4154)\n",
      "k=2, T=7000 tensor(1.0035)\n",
      "tensor(59.0571)\n",
      "k=2, T=8000 tensor(1.0070)\n",
      "tensor(63.0253)\n",
      "k=2, T=9000 tensor(1.0065)\n",
      "tensor(66.8657)\n"
     ]
    }
   ],
   "source": [
    "from torch.distributions.multivariate_normal import MultivariateNormal\n",
    "from torch.nn.functional import normalize\n",
    "def dist(k):\n",
    "    ev = torch.ones(k)\n",
    "\n",
    "    # Q, _ = torch.linalg.qr(torch.randn(k, k))\n",
    "\n",
    "    mean = torch.zeros(k)\n",
    "    # ev[-1] *= k\n",
    "    # cov = Q @ torch.diag(torch.tensor(ev)) @ Q.T\n",
    "    cov = torch.diag(torch.tensor(ev))\n",
    "    # cov[1,0] = 0.5\n",
    "    # cov[0,1] = 0.5\n",
    "\n",
    "    p_t = MultivariateNormal(mean, covariance_matrix=cov)\n",
    "    return p_t\n",
    "\n",
    "for T in range(1000, 10000, 1000):\n",
    "    # for k in range(100, 200, 50):\n",
    "    k = 2\n",
    "    l = []\n",
    "    for t in range(T):\n",
    "        w_t = dist(k).sample()\n",
    "        if t % 10 > 6:\n",
    "            w_t[-1] = 0.0\n",
    "        elif t % 10 < 3:\n",
    "            w_t[0] = 0.0\n",
    "        w_t = normalize(w_t, p=2.0, dim=0)\n",
    "        l.append(w_t)\n",
    "    W = torch.stack(l, dim=1)\n",
    "    U, S, V = torch.linalg.svd(W)\n",
    "    print(f\"k={k}, T={T}\", S.max() / S.min())\n",
    "    print(S.min())\n",
    "    # print(S.min())\n",
    "    # print(1/(S.min()**2))"
   ]
  },
  {
   "cell_type": "code",
   "execution_count": 195,
   "metadata": {},
   "outputs": [
    {
     "name": "stdout",
     "output_type": "stream",
     "text": [
      "k=5, T=1000 tensor(3.7818)\n",
      "k=5, T=2000 tensor(2.0642)\n",
      "k=5, T=3000 tensor(2.1609)\n",
      "k=5, T=4000 tensor(2.1756)\n",
      "k=5, T=5000 tensor(2.4932)\n",
      "k=5, T=6000 tensor(2.6059)\n",
      "k=5, T=7000 tensor(2.8419)\n",
      "k=5, T=8000 tensor(3.0050)\n",
      "k=5, T=9000 tensor(3.0397)\n"
     ]
    }
   ],
   "source": [
    "from torch.distributions.multivariate_normal import MultivariateNormal\n",
    "from torch.nn.functional import normalize\n",
    "def dist(k):\n",
    "    ev = torch.linspace(1, 10*k, k)\n",
    "    mean = torch.zeros(k)\n",
    "    cov = torch.diag(ev)\n",
    "    p_t = MultivariateNormal(mean, covariance_matrix=cov)\n",
    "    return p_t\n",
    "\n",
    "for T in range(1000, 10000, 1000):\n",
    "    k = 5\n",
    "    l = []\n",
    "    for t in range(T):\n",
    "        w_t = dist(k).sample()\n",
    "        if t < 800:\n",
    "            w_t[2:] = 0.0\n",
    "        w_t = normalize(w_t, p=2.0, dim=0)\n",
    "        l.append(w_t)\n",
    "    W = torch.stack(l, dim=1)\n",
    "    U, S, V = torch.linalg.svd(W)\n",
    "    print(f\"k={k}, T={T}\", S.max() / S.min())"
   ]
  },
  {
   "cell_type": "code",
   "execution_count": 203,
   "metadata": {},
   "outputs": [
    {
     "name": "stdout",
     "output_type": "stream",
     "text": [
      "k=5, T=1000 tensor(106.2601)\n",
      "k=5, T=2000 tensor(94.8292)\n",
      "k=5, T=3000 tensor(211.6446)\n",
      "k=5, T=4000 tensor(272.7132)\n",
      "k=5, T=5000 tensor(262.5277)\n",
      "k=5, T=6000 tensor(436.0368)\n",
      "k=5, T=7000 tensor(208.9677)\n",
      "k=5, T=8000 tensor(302.6698)\n",
      "k=5, T=9000 tensor(288.6148)\n"
     ]
    }
   ],
   "source": [
    "from torch.distributions.multivariate_normal import MultivariateNormal\n",
    "from torch.nn.functional import normalize\n",
    "def dist(k):\n",
    "    ev = torch.linspace(1, 10*k, k)\n",
    "    mean = torch.zeros(k)\n",
    "    cov = torch.diag(ev)\n",
    "    p_t = MultivariateNormal(mean, covariance_matrix=cov)\n",
    "    return p_t\n",
    "\n",
    "for T in range(1000, 10000, 1000):\n",
    "    k = 5\n",
    "    l = []\n",
    "    for t in range(T):\n",
    "        w_t = dist(k).sample()\n",
    "        if t > 10:\n",
    "            w_t = l[0]\n",
    "        w_t = normalize(w_t, p=2.0, dim=0)\n",
    "        l.append(w_t)\n",
    "    W = torch.stack(l, dim=1)\n",
    "    U, S, V = torch.linalg.svd(W)\n",
    "    print(f\"k={k}, T={T}\", S.max() / S.min())"
   ]
  },
  {
   "cell_type": "code",
   "execution_count": 204,
   "metadata": {},
   "outputs": [
    {
     "name": "stdout",
     "output_type": "stream",
     "text": [
      "k=5, T=1000 tensor(78.4322)\n",
      "k=10, T=1000 tensor(2838.7205)\n",
      "k=15, T=1000 tensor(1.1542e+28)\n",
      "k=20, T=1000 tensor(inf)\n",
      "k=25, T=1000 tensor(inf)\n",
      "k=30, T=1000 tensor(21425196.)\n",
      "k=35, T=1000 tensor(16916234.)\n",
      "k=40, T=1000 tensor(16803008.)\n",
      "k=45, T=1000 tensor(21600772.)\n",
      "k=5, T=2000 tensor(142.1849)\n",
      "k=10, T=2000 tensor(453.3321)\n",
      "k=15, T=2000 tensor(1.2061e+22)\n",
      "k=20, T=2000 tensor(inf)\n",
      "k=25, T=2000 tensor(inf)\n",
      "k=30, T=2000 tensor(16812700.)\n",
      "k=35, T=2000 tensor(17584124.)\n",
      "k=40, T=2000 tensor(20366806.)\n",
      "k=45, T=2000 tensor(16941444.)\n",
      "k=5, T=3000 tensor(111.2439)\n",
      "k=10, T=3000 tensor(934.6252)\n",
      "k=15, T=3000 tensor(1.1762e+23)\n",
      "k=20, T=3000 tensor(inf)\n",
      "k=25, T=3000 tensor(inf)\n",
      "k=30, T=3000 tensor(16801842.)\n",
      "k=35, T=3000 tensor(16812342.)\n",
      "k=40, T=3000 tensor(16800384.)\n",
      "k=45, T=3000 tensor(16790354.)\n",
      "k=5, T=4000 tensor(155.0688)\n",
      "k=10, T=4000 tensor(1007.5429)\n",
      "k=15, T=4000 tensor(2.2161e+20)\n",
      "k=20, T=4000 tensor(inf)\n"
     ]
    },
    {
     "ename": "KeyboardInterrupt",
     "evalue": "",
     "output_type": "error",
     "traceback": [
      "\u001b[0;31m---------------------------------------------------------------------------\u001b[0m",
      "\u001b[0;31mKeyboardInterrupt\u001b[0m                         Traceback (most recent call last)",
      "Cell \u001b[0;32mIn[204], line 20\u001b[0m\n\u001b[1;32m     18\u001b[0m     l\u001b[38;5;241m.\u001b[39mappend(w_t)\n\u001b[1;32m     19\u001b[0m W \u001b[38;5;241m=\u001b[39m torch\u001b[38;5;241m.\u001b[39mstack(l, dim\u001b[38;5;241m=\u001b[39m\u001b[38;5;241m1\u001b[39m)\n\u001b[0;32m---> 20\u001b[0m U, S, V \u001b[38;5;241m=\u001b[39m \u001b[43mtorch\u001b[49m\u001b[38;5;241;43m.\u001b[39;49m\u001b[43mlinalg\u001b[49m\u001b[38;5;241;43m.\u001b[39;49m\u001b[43msvd\u001b[49m\u001b[43m(\u001b[49m\u001b[43mW\u001b[49m\u001b[43m)\u001b[49m\n\u001b[1;32m     21\u001b[0m \u001b[38;5;28mprint\u001b[39m(\u001b[38;5;124mf\u001b[39m\u001b[38;5;124m\"\u001b[39m\u001b[38;5;124mk=\u001b[39m\u001b[38;5;132;01m{\u001b[39;00mk\u001b[38;5;132;01m}\u001b[39;00m\u001b[38;5;124m, T=\u001b[39m\u001b[38;5;132;01m{\u001b[39;00mT\u001b[38;5;132;01m}\u001b[39;00m\u001b[38;5;124m\"\u001b[39m, S\u001b[38;5;241m.\u001b[39mmax() \u001b[38;5;241m/\u001b[39m S\u001b[38;5;241m.\u001b[39mmin())\n",
      "\u001b[0;31mKeyboardInterrupt\u001b[0m: "
     ]
    }
   ],
   "source": [
    "from torch.distributions.multivariate_normal import MultivariateNormal\n",
    "from torch.nn.functional import normalize\n",
    "def dist(k):\n",
    "    ev = torch.linspace(1, 10*k, k)\n",
    "    mean = torch.zeros(k)\n",
    "    cov = torch.diag(ev)\n",
    "    p_t = MultivariateNormal(mean, covariance_matrix=cov)\n",
    "    return p_t\n",
    "\n",
    "for T in range(1000, 10000, 1000):\n",
    "    for k in range(5, 50, 5):\n",
    "        l = []\n",
    "        for t in range(T):\n",
    "            w_t = dist(k).sample()\n",
    "            if t > 10:\n",
    "                w_t = l[0]\n",
    "            w_t = normalize(w_t, p=2.0, dim=0)\n",
    "            l.append(w_t)\n",
    "        W = torch.stack(l, dim=1)\n",
    "        U, S, V = torch.linalg.svd(W)\n",
    "        print(f\"k={k}, T={T}\", S.max() / S.min())"
   ]
  },
  {
   "cell_type": "code",
   "execution_count": 201,
   "metadata": {},
   "outputs": [
    {
     "data": {
      "text/plain": [
       "[<matplotlib.lines.Line2D at 0x141ef7850>]"
      ]
     },
     "execution_count": 201,
     "metadata": {},
     "output_type": "execute_result"
    },
    {
     "data": {
      "image/png": "[encoded data removed]",
      "text/plain": [
       "<Figure size 640x480 with 1 Axes>"
      ]
     },
     "metadata": {},
     "output_type": "display_data"
    }
   ],
   "source": [
    "# plot the list l\n",
    "import matplotlib.pyplot as plt\n",
    "plt.plot(l)"
   ]
  },
  {
   "cell_type": "code",
   "execution_count": 199,
   "metadata": {},
   "outputs": [
    {
     "name": "stdout",
     "output_type": "stream",
     "text": [
      "Singular Values of W: tensor([2.2361, 1.7321, 1.4142])\n",
      "Condition Number of W: tensor(1.5811)\n",
      "Singular Values of W: tensor([4.8013, 2.1399, 1.5389])\n",
      "Condition Number of W: tensor(3.1199)\n",
      "Singular Values of W: tensor([6.5594, 2.1446, 1.5411])\n",
      "Condition Number of W: tensor(4.2562)\n",
      "Singular Values of W: tensor([7.9383, 2.1461, 1.5419])\n",
      "Condition Number of W: tensor(5.1485)\n",
      "Singular Values of W: tensor([9.1111, 2.1468, 1.5422])\n",
      "Condition Number of W: tensor(5.9077)\n",
      "Singular Values of W: tensor([10.1494,  2.1473,  1.5425])\n",
      "Condition Number of W: tensor(6.5800)\n",
      "Singular Values of W: tensor([11.0909,  2.1475,  1.5426])\n",
      "Condition Number of W: tensor(7.1897)\n",
      "Singular Values of W: tensor([11.9586,  2.1477,  1.5427])\n",
      "Condition Number of W: tensor(7.7516)\n",
      "Singular Values of W: tensor([12.7674,  2.1479,  1.5428])\n",
      "Condition Number of W: tensor(8.2755)\n",
      "Singular Values of W: tensor([13.5280,  2.1480,  1.5429])\n",
      "Condition Number of W: tensor(8.7681)\n",
      "Singular Values of W: tensor([14.2480,  2.1481,  1.5429])\n",
      "Condition Number of W: tensor(9.2345)\n",
      "Singular Values of W: tensor([14.9333,  2.1482,  1.5430])\n",
      "Condition Number of W: tensor(9.6784)\n",
      "Singular Values of W: tensor([15.5886,  2.1483,  1.5430])\n",
      "Condition Number of W: tensor(10.1029)\n",
      "Singular Values of W: tensor([16.2174,  2.1483,  1.5430])\n",
      "Condition Number of W: tensor(10.5102)\n",
      "Singular Values of W: tensor([16.8227,  2.1484,  1.5430])\n",
      "Condition Number of W: tensor(10.9023)\n",
      "Singular Values of W: tensor([17.4070,  2.1484,  1.5431])\n",
      "Condition Number of W: tensor(11.2808)\n",
      "Singular Values of W: tensor([17.9723,  2.1484,  1.5431])\n",
      "Condition Number of W: tensor(11.6470)\n",
      "Singular Values of W: tensor([18.5203,  2.1485,  1.5431])\n",
      "Condition Number of W: tensor(12.0020)\n",
      "Singular Values of W: tensor([19.0526,  2.1485,  1.5431])\n",
      "Condition Number of W: tensor(12.3469)\n",
      "Singular Values of W: tensor([19.5705,  2.1485,  1.5431])\n",
      "Condition Number of W: tensor(12.6823)\n",
      "Singular Values of W: tensor([20.0749,  2.1485,  1.5431])\n",
      "Condition Number of W: tensor(13.0092)\n",
      "Singular Values of W: tensor([20.5670,  2.1486,  1.5431])\n",
      "Condition Number of W: tensor(13.3280)\n",
      "Singular Values of W: tensor([21.0476,  2.1486,  1.5432])\n",
      "Condition Number of W: tensor(13.6393)\n",
      "Singular Values of W: tensor([21.5175,  2.1486,  1.5432])\n",
      "Condition Number of W: tensor(13.9437)\n",
      "Singular Values of W: tensor([21.9773,  2.1486,  1.5432])\n",
      "Condition Number of W: tensor(14.2416)\n",
      "Singular Values of W: tensor([22.4277,  2.1486,  1.5432])\n",
      "Condition Number of W: tensor(14.5334)\n",
      "Singular Values of W: tensor([22.8692,  2.1486,  1.5432])\n",
      "Condition Number of W: tensor(14.8195)\n",
      "Singular Values of W: tensor([23.3024,  2.1486,  1.5432])\n",
      "Condition Number of W: tensor(15.1001)\n",
      "Singular Values of W: tensor([23.7277,  2.1487,  1.5432])\n",
      "Condition Number of W: tensor(15.3756)\n",
      "Singular Values of W: tensor([24.1454,  2.1487,  1.5432])\n",
      "Condition Number of W: tensor(15.6463)\n",
      "Singular Values of W: tensor([24.5561,  2.1487,  1.5432])\n",
      "Condition Number of W: tensor(15.9123)\n",
      "Singular Values of W: tensor([24.9600,  2.1487,  1.5432])\n",
      "Condition Number of W: tensor(16.1740)\n",
      "Singular Values of W: tensor([25.3575,  2.1487,  1.5432])\n",
      "Condition Number of W: tensor(16.4315)\n",
      "Singular Values of W: tensor([25.7488,  2.1487,  1.5432])\n",
      "Condition Number of W: tensor(16.6851)\n",
      "Singular Values of W: tensor([26.1343,  2.1487,  1.5432])\n",
      "Condition Number of W: tensor(16.9348)\n",
      "Singular Values of W: tensor([26.5142,  2.1487,  1.5432])\n",
      "Condition Number of W: tensor(17.1809)\n",
      "Singular Values of W: tensor([26.8887,  2.1487,  1.5432])\n",
      "Condition Number of W: tensor(17.4236)\n",
      "Singular Values of W: tensor([27.2581,  2.1487,  1.5432])\n",
      "Condition Number of W: tensor(17.6629)\n",
      "Singular Values of W: tensor([27.6225,  2.1487,  1.5432])\n",
      "Condition Number of W: tensor(17.8990)\n",
      "Singular Values of W: tensor([27.9822,  2.1487,  1.5432])\n",
      "Condition Number of W: tensor(18.1320)\n",
      "Singular Values of W: tensor([28.3373,  2.1488,  1.5432])\n",
      "Condition Number of W: tensor(18.3621)\n",
      "Singular Values of W: tensor([28.6880,  2.1488,  1.5433])\n",
      "Condition Number of W: tensor(18.5893)\n",
      "Singular Values of W: tensor([29.0345,  2.1488,  1.5433])\n",
      "Condition Number of W: tensor(18.8138)\n",
      "Singular Values of W: tensor([29.3769,  2.1488,  1.5433])\n",
      "Condition Number of W: tensor(19.0356)\n",
      "Singular Values of W: tensor([29.7153,  2.1488,  1.5433])\n",
      "Condition Number of W: tensor(19.2549)\n",
      "Singular Values of W: tensor([30.0500,  2.1488,  1.5433])\n",
      "Condition Number of W: tensor(19.4717)\n",
      "Singular Values of W: tensor([30.3809,  2.1488,  1.5433])\n",
      "Condition Number of W: tensor(19.6861)\n",
      "Singular Values of W: tensor([30.7083,  2.1488,  1.5433])\n",
      "Condition Number of W: tensor(19.8983)\n",
      "Singular Values of W: tensor([31.0323,  2.1488,  1.5433])\n",
      "Condition Number of W: tensor(20.1081)\n",
      "Singular Values of W: tensor([31.3528,  2.1488,  1.5433])\n",
      "Condition Number of W: tensor(20.3158)\n"
     ]
    }
   ],
   "source": [
    "import torch\n",
    "\n",
    "# Define the vectors\n",
    "w1 = torch.tensor([1, 0, 0], dtype=torch.float32)\n",
    "w2 = torch.tensor([1, 0, 0], dtype=torch.float32)\n",
    "w3 = torch.tensor([0, 1, 0], dtype=torch.float32)\n",
    "w4 = torch.tensor([0, 1, 0], dtype=torch.float32)\n",
    "w5 = torch.tensor([0, 0, 1], dtype=torch.float32)\n",
    "w6 = torch.tensor([0, 0, 1], dtype=torch.float32)\n",
    "w7 = torch.tensor([1, 1, 0], dtype=torch.float32)\n",
    "w8 = torch.tensor([0, 1, 1], dtype=torch.float32)\n",
    "\n",
    "# Construct the matrix W from these vectors\n",
    "for i in range(1, 1000, 20):\n",
    "    W = torch.stack([w1]*i+[w2, w3, w4, w5, w6, w7, w8], dim=1)\n",
    "\n",
    "    # Compute singular values\n",
    "    U, S, V = torch.svd(W)\n",
    "\n",
    "    # Calculate the condition number\n",
    "    condition_number = S.max() / S.min()\n",
    "\n",
    "    print(\"Singular Values of W:\", S)\n",
    "    print(\"Condition Number of W:\", condition_number)\n"
   ]
  },
  {
   "cell_type": "code",
   "execution_count": null,
   "metadata": {},
   "outputs": [],
   "source": []
  }
 ],
 "metadata": {
  "kernelspec": {
   "display_name": "Python 3",
   "language": "python",
   "name": "python3"
  },
  "language_info": {
   "codemirror_mode": {
    "name": "ipython",
    "version": 3
   },
   "file_extension": ".py",
   "mimetype": "text/x-python",
   "name": "python",
   "nbconvert_exporter": "python",
   "pygments_lexer": "ipython3",
   "version": "3.11.5"
  }
 },
 "nbformat": 4,
 "nbformat_minor": 2
}
