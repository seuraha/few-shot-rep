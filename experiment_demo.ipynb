{
 "cells": [
  {
   "cell_type": "code",
   "execution_count": null,
   "metadata": {},
   "outputs": [],
   "source": [
    "class LowDimLinearRep():\n",
    "    def __init__(self, input_d, feature_d, output_d, n_source_tasks, n1, n2):\n",
    "        pass\n",
    "\n",
    "    def representation(self, x):\n",
    "        \"\"\"\n",
    "        maps input x to a low-dimensional representation of dim self.feature_d\n",
    "        \"\"\"\n",
    "        pass\n",
    "\n",
    "    def prediction(self, phi):\n",
    "        \"\"\"\n",
    "        linear prediction of the representation of x\n",
    "        \"\"\"\n",
    "        pass"
   ]
  },
  {
   "cell_type": "code",
   "execution_count": null,
   "metadata": {},
   "outputs": [],
   "source": [
    "class Simulation():\n",
    "    def __init__(self, input_d, output_d):\n",
    "        pass\n",
    "\n",
    "    def generate_data(self, n):\n",
    "        \"\"\"\n",
    "        generate n samples of data\n",
    "        \"\"\"\n",
    "        pass\n",
    "\n",
    "    def ground_truth_representation(self, x):\n",
    "        \"\"\"\n",
    "        ground truth representation function\n",
    "        \"\"\"\n",
    "        pass\n",
    "\n",
    "    def ground_truth_prediction(self, phi):\n",
    "        \"\"\"\n",
    "        ground truth prediction function\n",
    "        \"\"\"\n",
    "        pass\n",
    "\n",
    "    def noise(self, n):\n",
    "        \"\"\"\n",
    "        simulate random noise vector of length n\n",
    "        \n",
    "        \"\"\"\n",
    "        pass"
   ]
  }
 ],
 "metadata": {
  "language_info": {
   "name": "python"
  }
 },
 "nbformat": 4,
 "nbformat_minor": 2
}
