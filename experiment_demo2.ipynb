{
 "cells": [
  {
   "cell_type": "code",
   "execution_count": 1,
   "metadata": {},
   "outputs": [],
   "source": [
    "import numpy as np\n",
    "import torch\n",
    "import experiment\n",
    "from model import *\n",
    "from train import *"
   ]
  },
  {
   "cell_type": "code",
   "execution_count": null,
   "metadata": {},
   "outputs": [],
   "source": [
    "source_lr = 0.1\n",
    "target_lr = 0.01\n",
    "source_max_iter = 200\n",
    "target_max_iter = 200\n",
    "\n",
    "num_experiments = 100\n",
    "\n",
    "configs = {\n",
    "    \"d\": 40,\n",
    "    \"k\": 5,\n",
    "    \"n1\": 50000,\n",
    "    \"n2\": 5000,\n",
    "    \"nT\": 100,\n",
    "    \"rho\": 1.0,\n",
    "    \"sigma\": 0.1,\n",
    "    \"delta\": 0.01,\n",
    "    \"c\": 1.0,\n",
    "    \"A1\": True,\n",
    "    \"A2\": True,\n",
    "    \"A3\": True,\n",
    "    \"A4\": True,\n",
    "}"
   ]
  },
  {
   "cell_type": "code",
   "execution_count": null,
   "metadata": {},
   "outputs": [
    {
     "name": "stdout",
     "output_type": "stream",
     "text": [
      "Parameter assumptions checked\n",
      "Experiment: A4.1 True, A4.2 True, A4.3 True, A4.4 True\n"
     ]
    }
   ],
   "source": [
    "exp = experiment.Experiment(configs)\n",
    "exp.instantiate(num_experiments)"
   ]
  },
  {
   "cell_type": "code",
   "execution_count": 6,
   "metadata": {},
   "outputs": [],
   "source": [
    "def experimentation(experiment_configs,\n",
    "        num_experiments=100, \n",
    "        source_lr = 0.1,\n",
    "        target_lr = 0.01,\n",
    "        source_max_iter = 200,\n",
    "        target_max_iter = 200\n",
    "        ):\n",
    "\n",
    "    exp = experiment.Experiment(experiment_configs)\n",
    "    exp.instantiate(num_experiments)\n",
    "\n",
    "    source_X = torch.stack([t.X for t in exp.source_tasks])\n",
    "    source_y = torch.cat([t.y for t in exp.source_tasks])\n",
    "\n",
    "    experiment_configs['data'] = exp\n",
    "    experiment_configs[\"num_experiments\"] = num_experiments\n",
    "    experiment_configs[\"source_lr\"] = source_lr\n",
    "    experiment_configs[\"target_lr\"] = target_lr\n",
    "    experiment_configs[\"source_max_iter\"] = source_max_iter\n",
    "    experiment_configs[\"target_max_iter\"] = target_max_iter\n",
    "\n",
    "    optimal_B = get_optimal_B(configs, source_X, source_y)\n",
    "    experiment_configs['B_hat'] = optimal_B\n",
    "\n",
    "    loss_list = []\n",
    "\n",
    "    print(\"Training target task\")\n",
    "    for task in exp.target_tasks:\n",
    "        target_model = TaskPredict(configs)\n",
    "        target_optim = torch.optim.Adam(target_model.parameters(), lr=target_lr)\n",
    "        target_criterion = torch.nn.MSELoss()\n",
    "        target_X = task.X\n",
    "        target_y = task.y\n",
    "\n",
    "        print(f\"Task ID: {task.task_id}\")\n",
    "        train_target = TrainTarget(\n",
    "            target_model, \n",
    "            optimal_B,\n",
    "            target_optim, \n",
    "            target_criterion, \n",
    "            target_X, \n",
    "            target_y, \n",
    "            configs)\n",
    "        train_target.train(target_max_iter)\n",
    "        loss_list.append(train_target.final_loss)\n",
    "    experiment_configs['loss'] = loss_list\n",
    "    experiment_configs['mean_loss'] = np.mean(loss_list)\n",
    "    return experiment_configs"
   ]
  },
  {
   "cell_type": "code",
   "execution_count": 7,
   "metadata": {},
   "outputs": [
    {
     "name": "stdout",
     "output_type": "stream",
     "text": [
      "Parameter assumptions checked\n",
      "Experiment: A4.1 True, A4.2 True, A4.3 True, A4.4 True\n",
      "Training source tasks\n",
      "\t Epoch 0 loss:  21.624\n",
      "\t Epoch 50 loss:  0.459\n",
      "\t Epoch 100 loss:  0.049\n",
      "\t Epoch 150 loss:  0.013\n",
      "\t Epoch 200 loss:  0.010\n",
      "Training target task\n",
      "Task ID: source_0\n",
      "\t Epoch 0 loss:  18.226\n",
      "\t Epoch 50 loss:  0.884\n",
      "\t Epoch 100 loss:  0.185\n",
      "\t Epoch 150 loss:  0.034\n",
      "\t Epoch 200 loss:  0.013\n",
      "Task ID: source_1\n",
      "\t Epoch 0 loss:  5.653\n",
      "\t Epoch 50 loss:  0.024\n",
      "\t Epoch 100 loss:  0.010\n",
      "\t Epoch 150 loss:  0.010\n",
      "\t Epoch 185 loss:  0.010\n",
      "Task ID: source_2\n",
      "\t Epoch 0 loss:  48.540\n",
      "\t Epoch 50 loss:  3.364\n",
      "\t Epoch 100 loss:  0.885\n",
      "\t Epoch 150 loss:  0.236\n",
      "\t Epoch 200 loss:  0.054\n",
      "Task ID: source_3\n",
      "\t Epoch 0 loss:  15.547\n",
      "\t Epoch 50 loss:  0.203\n",
      "\t Epoch 100 loss:  0.010\n",
      "\t Epoch 150 loss:  0.010\n",
      "\t Epoch 195 loss:  0.010\n",
      "Task ID: source_4\n",
      "\t Epoch 0 loss:  12.346\n",
      "\t Epoch 50 loss:  0.483\n",
      "\t Epoch 100 loss:  0.049\n",
      "\t Epoch 150 loss:  0.012\n",
      "\t Epoch 200 loss:  0.010\n",
      "Task ID: source_5\n",
      "\t Epoch 0 loss:  21.518\n",
      "\t Epoch 50 loss:  0.652\n",
      "\t Epoch 100 loss:  0.011\n",
      "\t Epoch 150 loss:  0.010\n",
      "\t Epoch 185 loss:  0.010\n",
      "Task ID: source_6\n",
      "\t Epoch 0 loss:  15.288\n",
      "\t Epoch 50 loss:  0.641\n",
      "\t Epoch 100 loss:  0.037\n",
      "\t Epoch 150 loss:  0.010\n",
      "\t Epoch 200 loss:  0.010\n",
      "Task ID: source_7\n",
      "\t Epoch 0 loss:  31.049\n",
      "\t Epoch 50 loss:  0.963\n",
      "\t Epoch 100 loss:  0.028\n",
      "\t Epoch 150 loss:  0.012\n",
      "\t Epoch 200 loss:  0.011\n",
      "Task ID: source_8\n",
      "\t Epoch 0 loss:  61.654\n",
      "\t Epoch 50 loss:  3.421\n",
      "\t Epoch 100 loss:  0.633\n",
      "\t Epoch 150 loss:  0.072\n",
      "\t Epoch 200 loss:  0.014\n",
      "Task ID: source_9\n",
      "\t Epoch 0 loss:  23.096\n",
      "\t Epoch 50 loss:  0.257\n",
      "\t Epoch 100 loss:  0.027\n",
      "\t Epoch 150 loss:  0.011\n",
      "\t Epoch 200 loss:  0.010\n",
      "Task ID: source_10\n",
      "\t Epoch 0 loss:  117.267\n",
      "\t Epoch 50 loss:  6.178\n",
      "\t Epoch 100 loss:  0.988\n",
      "\t Epoch 150 loss:  0.632\n",
      "\t Epoch 200 loss:  0.399\n",
      "Task ID: source_11\n",
      "\t Epoch 0 loss:  9.422\n",
      "\t Epoch 50 loss:  0.057\n",
      "\t Epoch 100 loss:  0.010\n",
      "\t Epoch 150 loss:  0.010\n",
      "\t Epoch 173 loss:  0.010\n"
     ]
    }
   ],
   "source": [
    "result = experimentation(configs)"
   ]
  },
  {
   "cell_type": "code",
   "execution_count": 11,
   "metadata": {},
   "outputs": [
    {
     "name": "stdout",
     "output_type": "stream",
     "text": [
      "7.302778\n",
      "8.211762947458189e-05\n"
     ]
    }
   ],
   "source": [
    "loss_list = np.array(loss_list)\n",
    "print(loss_list.mean())\n",
    "print(get_bound(P, sigma, delta))"
   ]
  }
 ],
 "metadata": {
  "kernelspec": {
   "display_name": "Python 3",
   "language": "python",
   "name": "python3"
  },
  "language_info": {
   "codemirror_mode": {
    "name": "ipython",
    "version": 3
   },
   "file_extension": ".py",
   "mimetype": "text/x-python",
   "name": "python",
   "nbconvert_exporter": "python",
   "pygments_lexer": "ipython3",
   "version": "3.11.5"
  }
 },
 "nbformat": 4,
 "nbformat_minor": 2
}
